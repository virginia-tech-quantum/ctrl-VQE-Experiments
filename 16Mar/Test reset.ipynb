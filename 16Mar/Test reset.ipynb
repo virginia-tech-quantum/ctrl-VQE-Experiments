{
 "cells": [
  {
   "cell_type": "code",
   "execution_count": 1,
   "metadata": {},
   "outputs": [],
   "source": [
    "from pyquil import Program, get_qc\n",
    "from pyquil.gates import *\n",
    "import logging\n",
    "import time\n",
    "import numpy as np\n",
    "\n",
    "qc = get_qc('Aspen-11')"
   ]
  },
  {
   "cell_type": "code",
   "execution_count": 2,
   "metadata": {},
   "outputs": [],
   "source": [
    "def test_reset(qubit=0, y_n ='yes', rotation='pi', shots=10_000):\n",
    "\n",
    "    if y_n == 'yes': line1 = 'RESET'\n",
    "    else: line1 = ''\n",
    "        \n",
    "    p = Program(\n",
    "        \"DECLARE ro BIT\",\n",
    "        f\"{line1}\",\n",
    "        f\"{rotation} {qubit}\",\n",
    "        f\"MEASURE {qubit} ro\"\n",
    "    ).wrap_in_numshots_loop(shots)\n",
    "    \n",
    "    print(p)\n",
    "    start_compile = time.time()\n",
    "    exe = qc.compiler.native_quil_to_executable(p)\n",
    "    print(f'compilation time: {time.time() - start_compile} s')\n",
    "    \n",
    "    return exe"
   ]
  },
  {
   "cell_type": "code",
   "execution_count": 4,
   "metadata": {},
   "outputs": [
    {
     "name": "stdout",
     "output_type": "stream",
     "text": [
      "____RESET____\n",
      "DECLARE ro BIT[1]\n",
      "RESET\n",
      "I 0\n",
      "MEASURE 0 ro[0]\n",
      "\n",
      "compilation time: 0.3791513442993164 s\n",
      "Total execution time: 1.6451666355133057 s\n",
      "\n",
      "DECLARE ro BIT[1]\n",
      "RESET\n",
      "RX(pi/2) 0\n",
      "MEASURE 0 ro[0]\n",
      "\n",
      "compilation time: 0.3841123580932617 s\n",
      "Total execution time: 0.5606532096862793 s\n",
      "\n",
      "DECLARE ro BIT[1]\n",
      "RESET\n",
      "RX(pi) 0\n",
      "MEASURE 0 ro[0]\n",
      "\n",
      "compilation time: 1.416715383529663 s\n",
      "Total execution time: 0.5574924945831299 s\n",
      "\n",
      "____NO RESET____\n",
      "DECLARE ro BIT[1]\n",
      "I 0\n",
      "MEASURE 0 ro[0]\n",
      "\n",
      "compilation time: 0.3145732879638672 s\n",
      "Total execution time: 5.418411016464233 s\n",
      "\n",
      "DECLARE ro BIT[1]\n",
      "RX(pi/2) 0\n",
      "MEASURE 0 ro[0]\n",
      "\n",
      "compilation time: 0.4237782955169678 s\n",
      "Total execution time: 5.385869741439819 s\n",
      "\n",
      "DECLARE ro BIT[1]\n",
      "RX(pi) 0\n",
      "MEASURE 0 ro[0]\n",
      "\n",
      "compilation time: 0.3364870548248291 s\n",
      "Total execution time: 5.402113676071167 s\n",
      "\n",
      "____NO RESET____\n"
     ]
    }
   ],
   "source": [
    "qubit = 0\n",
    "shots = 10000\n",
    "\n",
    "rotations = ['I', 'RX(pi/2)', 'RX(pi)']\n",
    "reset = ['yes', 'no']\n",
    "\n",
    "counter = 1\n",
    "print('____RESET____')\n",
    "for y_n in reset:\n",
    "    for rotation in rotations:\n",
    "        prog = test_reset(qubit, y_n, rotation, shots)\n",
    "        \n",
    "        start = time.time()\n",
    "        result = qc.run(prog)\n",
    "        total = time.time() - start\n",
    "        \n",
    "        bits = result.readout_data.get('ro')\n",
    "        with open(f'logs/{str(counter)}.csv', 'w') as file:\n",
    "            np.savetxt(file, bits, fmt='%d')\n",
    "        counter += 1\n",
    "        \n",
    "        print(f'Total execution time: {total} s\\n')\n",
    "    print('____NO RESET____')"
   ]
  },
  {
   "cell_type": "code",
   "execution_count": null,
   "metadata": {},
   "outputs": [],
   "source": []
  }
 ],
 "metadata": {
  "kernelspec": {
   "display_name": "Python 3",
   "language": "python",
   "name": "python3"
  },
  "language_info": {
   "codemirror_mode": {
    "name": "ipython",
    "version": 3
   },
   "file_extension": ".py",
   "mimetype": "text/x-python",
   "name": "python",
   "nbconvert_exporter": "python",
   "pygments_lexer": "ipython3",
   "version": "3.8.6"
  }
 },
 "nbformat": 4,
 "nbformat_minor": 4
}
